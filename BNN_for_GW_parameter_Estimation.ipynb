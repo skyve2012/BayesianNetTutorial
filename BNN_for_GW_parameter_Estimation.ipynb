{
 "cells": [
  {
   "cell_type": "code",
   "execution_count": null,
   "metadata": {
    "collapsed": false
   },
   "outputs": [],
   "source": [
    "import numpy as np\n",
    "import matplotlib.pyplot as plt\n",
    "import matplotlib\n",
    "import tensorflow as tf\n",
    "import tensorflow_probability as tfp\n",
    "import os\n",
    "os.environ['CUDA_VISIBLE_DEVICES'] = '0'\n",
    "import seaborn as sns\n",
    "sns.reset_defaults()\n",
    "import sys\n",
    "tfd = tfp.distributions\n",
    "sns.set_context(context='talk',font_scale=0.7)\n",
    "%matplotlib inline\n",
    "from model import ModelFunc\n",
    "from dataset import *\n",
    "from scipy.io import loadmat\n",
    "import h5py\n",
    "from h5py import File\n",
    "import pickle as pickle\n",
    "from scipy.interpolate import interp1d"
   ]
  },
  {
   "cell_type": "code",
   "execution_count": null,
   "metadata": {
    "collapsed": false
   },
   "outputs": [],
   "source": [
    "# hyperparameter configurations\n",
    "\n",
    "BATCH_SIZE = 32\n",
    "EPOCHS = 10\n",
    "MODEL_NAME  = \"TEST_ESTIMATOR\"\n",
    "SAVEFOLDER = \"model_for_tutorial_test\" # when doing demo, use the model named \"model_for_tutorial\" for testing and evaluation do not train\n",
    "TRAIN_DATA_PATH = \"final_whitened_data_with_labels_combined.h5\"\n",
    "TEST_DATA_PATH = \"final_whitened_data_with_labels_combined.h5\"\n",
    "MIN_SNR = 1.\n",
    "\n",
    "\n",
    "try:\n",
    "    os.mkdir(SAVEFOLDER)\n",
    "except:\n",
    "    os.system('rm -rf ' + SAVEFOLDER)\n",
    "    os.mkdir(SAVEFOLDER)\n",
    "\n",
    "\n",
    "config =  tf.compat.v1.ConfigProto()\n",
    "config.gpu_options.allow_growth = True\n",
    "\n",
    "custom_config = tf.estimator.RunConfig(save_summary_steps = 100,\n",
    "                                       log_step_count_steps = 100,\n",
    "                                       save_checkpoints_steps=300,\n",
    "                                       session_config=config\n",
    "                                       )\n",
    "\n",
    "predictor = tf.estimator.Estimator(model_fn = ModelFunc,\n",
    "                                   config = custom_config,\n",
    "                                   model_dir = SAVEFOLDER)\n",
    "\n",
    "tensors_to_log = {\"relative_error_test_out\": 'relative_error_test',\n",
    "                  \"loss_out\": 'loss'}\n",
    "\n",
    "logging_hook = tf.compat.v1.train.LoggingTensorHook(tensors=tensors_to_log, every_n_iter=100)\n"
   ]
  },
  {
   "cell_type": "code",
   "execution_count": null,
   "metadata": {
    "collapsed": false
   },
   "outputs": [],
   "source": [
    "# import data and visualize\n",
    "with h5py.File('final_whitened_data_with_labels_combined.h5', 'r') as f:\n",
    "    data_x = f[u'train_data'][:10]\n",
    "    labels = f[u'train_label'][:10]\n",
    "plt.plot(data_x[9])\n",
    "#plt.title('visualization')"
   ]
  },
  {
   "cell_type": "markdown",
   "metadata": {
    "collapsed": true
   },
   "source": [
    "# Training & Evaluation"
   ]
  },
  {
   "cell_type": "code",
   "execution_count": null,
   "metadata": {
    "collapsed": false,
    "scrolled": true
   },
   "outputs": [],
   "source": [
    "# training\n",
    "\n",
    "for i in range(EPOCHS):\n",
    "    predictor.train(input_fn=lambda: generator(filename=TRAIN_DATA_PATH, shuffle=False,\n",
    "                    batch_size = BATCH_SIZE, min_SNR=MIN_SNR))\n",
    "    metrics = predictor.evaluate(input_fn=lambda: generator(filename=TEST_DATA_PATH, shuffle=False,\n",
    "                                 batch_size = BATCH_SIZE, min_SNR=MIN_SNR))\n",
    "    print('#'*30)\n",
    "    print('metrics {} at epoch {}'.format(metrics, i+1))\n",
    "    print('#'*30)\n",
    "\n",
    "print('Finished!')"
   ]
  },
  {
   "cell_type": "markdown",
   "metadata": {},
   "source": [
    "# Reload Model into Estimator"
   ]
  },
  {
   "cell_type": "code",
   "execution_count": null,
   "metadata": {
    "collapsed": false
   },
   "outputs": [],
   "source": [
    "#SAVEFOLDER = \"model_for_tutorial_2\"\n",
    "config =  tf.compat.v1.ConfigProto()\n",
    "config.gpu_options.allow_growth = True\n",
    "custom_config = tf.estimator.RunConfig(save_summary_steps = 100,\n",
    "                                       log_step_count_steps = 100,\n",
    "                                       save_checkpoints_steps=300,\n",
    "                                       session_config=config\n",
    "                                       )\n",
    "\n",
    "predictor = tf.estimator.Estimator(model_fn = ModelFunc,\n",
    "                                   config = custom_config,\n",
    "                                   model_dir = SAVEFOLDER)"
   ]
  },
  {
   "cell_type": "code",
   "execution_count": null,
   "metadata": {
    "collapsed": false
   },
   "outputs": [],
   "source": []
  },
  {
   "cell_type": "markdown",
   "metadata": {},
   "source": [
    "# Evaluation on different SNRs"
   ]
  },
  {
   "cell_type": "code",
   "execution_count": null,
   "metadata": {
    "collapsed": false,
    "scrolled": true
   },
   "outputs": [],
   "source": [
    "# evaluation on test set\n",
    "check_SNR = 1.\n",
    "TEST_DATA_PATH = \"final_whitened_data_with_labels_combined.h5\"\n",
    "BATCH_SIZE = 32\n",
    "metrics_pred = predictor.evaluate(input_fn=lambda: tester_fixed_SNR(filename=TEST_DATA_PATH, shuffle=False,\n",
    "                                 batch_size = BATCH_SIZE, SNR=check_SNR))\n",
    "\n",
    "print(metrics_pred)"
   ]
  },
  {
   "cell_type": "markdown",
   "metadata": {},
   "source": [
    "# Make predictions on different SNRs"
   ]
  },
  {
   "cell_type": "code",
   "execution_count": null,
   "metadata": {
    "collapsed": false
   },
   "outputs": [],
   "source": [
    "# prediction on test set (inference)\n",
    "check_SNR = 3.\n",
    "TEST_DATA_PATH = \"final_whitened_data_with_labels_combined.h5\"\n",
    "BATCH_SIZE = 32\n",
    "data_predict = predictor.predict(input_fn=lambda: tester_fixed_SNR(filename=TEST_DATA_PATH, shuffle=False,\n",
    "                                 batch_size = BATCH_SIZE, SNR=check_SNR))\n",
    "\n",
    "\n",
    "one_batch_prediction = data_predict.next()\n",
    "print(np.std(one_batch_prediction['predictions'])) "
   ]
  },
  {
   "cell_type": "code",
   "execution_count": null,
   "metadata": {
    "collapsed": false
   },
   "outputs": [],
   "source": [
    "_ = plt.hist(one_batch_prediction['predictions'].squeeze(), bins=30)"
   ]
  },
  {
   "cell_type": "code",
   "execution_count": null,
   "metadata": {
    "collapsed": true
   },
   "outputs": [],
   "source": []
  },
  {
   "cell_type": "markdown",
   "metadata": {
    "collapsed": true
   },
   "source": [
    "# Save model for prediction (another approach)\n",
    "The above approach requires loading models for every evaluation, which is slow. Here I'll introduce a new way to make inferences after the model is trained."
   ]
  },
  {
   "cell_type": "code",
   "execution_count": null,
   "metadata": {
    "collapsed": true
   },
   "outputs": [],
   "source": [
    "def serving_input_receiver_fn():\n",
    "    \"\"\"Serving input_fn that builds features from placeholders\n",
    "\n",
    "    Returns\n",
    "    -------\n",
    "    tf.estimator.export.ServingInputReceiver\n",
    "    \"\"\"\n",
    "    data = tf.compat.v1.placeholder(dtype=tf.float32, shape=[None, 8192], name='data')\n",
    "    receiver_tensors = {'data': data}\n",
    "    return tf.estimator.export.ServingInputReceiver(data, receiver_tensors)"
   ]
  },
  {
   "cell_type": "code",
   "execution_count": null,
   "metadata": {
    "collapsed": false
   },
   "outputs": [],
   "source": [
    "predictor.export_saved_model('saved_model_test', serving_input_receiver_fn)"
   ]
  },
  {
   "cell_type": "code",
   "execution_count": null,
   "metadata": {
    "collapsed": true
   },
   "outputs": [],
   "source": []
  }
 ],
 "metadata": {
  "kernelspec": {
   "display_name": "TF2",
   "language": "python",
   "name": "tf2"
  },
  "language_info": {
   "codemirror_mode": {
    "name": "ipython",
    "version": 2
   },
   "file_extension": ".py",
   "mimetype": "text/x-python",
   "name": "python",
   "nbconvert_exporter": "python",
   "pygments_lexer": "ipython2",
   "version": "2.7.16"
  }
 },
 "nbformat": 4,
 "nbformat_minor": 2
}
